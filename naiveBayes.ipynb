{
  "nbformat": 4,
  "nbformat_minor": 0,
  "metadata": {
    "colab": {
      "name": "naiveBayes.ipynb",
      "provenance": [],
      "collapsed_sections": []
    },
    "kernelspec": {
      "name": "python3",
      "display_name": "Python 3"
    }
  },
  "cells": [
    {
      "cell_type": "code",
      "metadata": {
        "id": "exhURYX8lOoY",
        "colab_type": "code",
        "outputId": "d1dbdcc9-72a6-4fc5-f767-8eaa82a3bfeb",
        "colab": {
          "base_uri": "https://localhost:8080/",
          "height": 85
        }
      },
      "source": [
        "from sklearn import datasets\n",
        "from sklearn.model_selection import train_test_split\n",
        "from sklearn.naive_bayes import GaussianNB\n",
        "from sklearn.neural_network import MLPClassifier\n",
        "from sklearn import preprocessing\n",
        "from pandas import DataFrame\n",
        "\n",
        "X,y = datasets.load_digits(return_X_y=True)\n",
        "print(X.shape)\n",
        "X_train, X_test, y_train, y_test = train_test_split(X, y, test_size=0.25, random_state=20)\n",
        "gnb = GaussianNB()\n",
        "y_pred = gnb.fit(X_train, y_train).predict(X_test)\n",
        "print(\"Number of mislabeled points out of a total %d points : %d\" % (X_test.shape[0], (y_test != y_pred).sum()))\n",
        "\n",
        "rate = (X_test.shape[0] - (y_test != y_pred).sum() ) / X_test.shape[0] \n",
        "print(\"Test Set accuracy for Naive Bayes: %s \" % (rate))\n",
        "\n",
        "df = DataFrame(X)\n",
        "y = df.iloc[:,-1]\n",
        "le = preprocessing.LabelEncoder()\n",
        "le.fit_transform(y)\n",
        "\n",
        "X_train, X_test, y_train, y_test = train_test_split(X, y, test_size=0.25, random_state=20)\n",
        "mlp = MLPClassifier(solver='adam', alpha=1e-5, hidden_layer_sizes=(40,20,10), activation = 'relu', max_iter=300, random_state=12, early_stopping = True) #alpha is the L2 penalty (regularization term) parameter\n",
        "mlp.fit(X_train, y_train)\n",
        "print(\"Test set accuracy for ANN: %f\" % mlp.score(X_test, y_test))"
      ],
      "execution_count": 0,
      "outputs": [
        {
          "output_type": "stream",
          "text": [
            "(1797, 64)\n",
            "Number of mislabeled points out of a total 450 points : 50\n",
            "Test Set accuracy for Naive Bayes: 0.8888888888888888 \n",
            "Test set accuracy for ANN: 0.955556\n"
          ],
          "name": "stdout"
        }
      ]
    },
    {
      "cell_type": "code",
      "metadata": {
        "id": "2cN3uVWIHLaX",
        "colab_type": "code",
        "colab": {}
      },
      "source": [
        ""
      ],
      "execution_count": 0,
      "outputs": []
    }
  ]
}