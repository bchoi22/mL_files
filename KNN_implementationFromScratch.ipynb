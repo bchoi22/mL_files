{
  "nbformat": 4,
  "nbformat_minor": 0,
  "metadata": {
    "colab": {
      "name": "KNN_hw5_part2.ipynb",
      "provenance": [],
      "collapsed_sections": [],
      "toc_visible": true
    },
    "kernelspec": {
      "name": "python3",
      "display_name": "Python 3"
    }
  },
  "cells": [
    {
      "cell_type": "markdown",
      "metadata": {
        "id": "_D33CCH1lsd4",
        "colab_type": "text"
      },
      "source": [
        "1) Create the KNN classification algorithm using Python (do not use the sklearn package).\n",
        "\n",
        "(2) Apply your KNN algorithm to the “Wine” data set. You can find the dataset from the sklearn\n",
        "package or you can download the data set from UCI Machine Learning Repository\n",
        "(https://archive.ics.uci.edu/ml/index.php).\n",
        "\n",
        "(3) Find the 𝐾 value that achieves the best classification result on the “Wine” data set. Show\n",
        "the curve of classification accuracy vs K value."
      ]
    },
    {
      "cell_type": "code",
      "metadata": {
        "id": "oyI3Lpk6lmDB",
        "colab_type": "code",
        "colab": {}
      },
      "source": [
        "import numpy as np\n",
        "import matplotlib.pyplot as plt\n",
        "from sklearn import svm, datasets\n",
        "from sklearn.model_selection import train_test_split\n",
        "from sklearn import metrics\n",
        "from sklearn.datasets import make_blobs"
      ],
      "execution_count": 0,
      "outputs": []
    },
    {
      "cell_type": "code",
      "metadata": {
        "id": "gCLnZdMSl9bQ",
        "colab_type": "code",
        "colab": {}
      },
      "source": [
        "from sklearn.preprocessing import StandardScaler\n",
        "data = datasets.load_wine()\n",
        "X = data.data\n",
        "y = data.target\n",
        "\n",
        "X = StandardScaler().fit_transform(X)\n",
        "print(np.unique(y))\n",
        "print(X.shape)"
      ],
      "execution_count": 0,
      "outputs": []
    },
    {
      "cell_type": "code",
      "metadata": {
        "id": "Bk5DCK6imFvr",
        "colab_type": "code",
        "colab": {}
      },
      "source": [
        "X_train, X_test, Y_train, Y_test = train_test_split(X, y, test_size=0.25,random_state=2) "
      ],
      "execution_count": 0,
      "outputs": []
    },
    {
      "cell_type": "code",
      "metadata": {
        "id": "cIMmX9jRmUZH",
        "colab_type": "code",
        "colab": {}
      },
      "source": [
        "print(X_test)"
      ],
      "execution_count": 0,
      "outputs": []
    },
    {
      "cell_type": "code",
      "metadata": {
        "id": "GIejWEkPnZL8",
        "colab_type": "code",
        "outputId": "d68321af-a327-4e1d-c711-d1b5446246e6",
        "colab": {
          "base_uri": "https://localhost:8080/",
          "height": 34
        }
      },
      "source": [
        "from scipy.stats import pearsonr\n",
        "corr, _ = pearsonr(X_test[0], X_test[1])\n",
        "print(corr)"
      ],
      "execution_count": 0,
      "outputs": [
        {
          "output_type": "stream",
          "text": [
            "0.6479007370281497\n"
          ],
          "name": "stdout"
        }
      ]
    },
    {
      "cell_type": "code",
      "metadata": {
        "id": "ovFCMorespvU",
        "colab_type": "code",
        "outputId": "b77a77d8-1229-45a4-f06f-35789ae8cdfe",
        "colab": {
          "base_uri": "https://localhost:8080/",
          "height": 313
        }
      },
      "source": [
        "from collections import defaultdict\n",
        "\n",
        "errors = []\n",
        "\n",
        "def knn(k):\n",
        "  D = []\n",
        "  classes = {}\n",
        "  err = 0\n",
        "  for c in range(len(X_test)):\n",
        "    for i in range(len(X_train)):\n",
        "      corr,_ = pearsonr(X_test[c], X_train[i]) #use the pearson corr coef as distance measure\n",
        "      D.append((abs(corr), X_train[i], Y_train[i]))\n",
        "    D.sort(key = lambda x: x[0], reverse=True) #sort list of tuples by highest distance measure\n",
        "    adict = defaultdict(int) #use a default dict to initialize dict with 0 in all elements\n",
        "    max = 0\n",
        "    correctClass = -1\n",
        "    for j in range(k):\n",
        "      adict[D[j][2]] += 1 # number of times this particular class appears for first k elements\n",
        "      if max < adict[D[j][2]]:\n",
        "        max = adict[D[j][2]]\n",
        "        correctClass = D[j][2] #the correctClass is the class that appears the most in the training data\n",
        "    classes[c] = correctClass \n",
        "    if correctClass != Y_test[c]:\n",
        "      err +=1 #collect the number of times \"correctClass\" is incorrect\n",
        "  errors.append(err)\n",
        "\n",
        "for l in range(15):\n",
        "  knn(l)\n",
        "\n",
        "plt.plot(errors)\n",
        "plt.xlabel('k')\n",
        "plt.ylabel('number of misclassifications')\n",
        "plt.title('Number of misclassification with respect to k for 45 test items per iteration')\n",
        "\n",
        "print(\"k = 2 achieves the lowest number of errors in this case\")"
      ],
      "execution_count": 0,
      "outputs": [
        {
          "output_type": "stream",
          "text": [
            "k = 2 achieves the lowest number of errors in this case\n"
          ],
          "name": "stdout"
        },
        {
          "output_type": "display_data",
          "data": {
            "image/png": "[encoded data removed]",
            "text/plain": [
              "<Figure size 432x288 with 1 Axes>"
            ]
          },
          "metadata": {
            "tags": []
          }
        }
      ]
    }
  ]
}