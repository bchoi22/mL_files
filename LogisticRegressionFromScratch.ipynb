{
  "nbformat": 4,
  "nbformat_minor": 0,
  "metadata": {
    "colab": {
      "name": "LogisticRegressionHW_v3.ipynb",
      "provenance": [],
      "collapsed_sections": []
    },
    "kernelspec": {
      "name": "python3",
      "display_name": "Python 3"
    }
  },
  "cells": [
    {
      "cell_type": "markdown",
      "metadata": {
        "id": "_JEZqyKM7U_w",
        "colab_type": "text"
      },
      "source": [
        "By Benjamin Choi\n",
        "\n",
        "ESE 419, HW4"
      ]
    },
    {
      "cell_type": "markdown",
      "metadata": {
        "id": "9rXtkMI0mCzi",
        "colab_type": "text"
      },
      "source": [
        "(1) Use Python to generate a 2D (𝒙𝑖∈ℛ2) non-linear-separable data set with 100 positive instances and 100 negative instances and create a scatter plot to visualize the data set.\n",
        "\n",
        "(2) Randomly split the data set into training set (contains 150 of the data points) and test set (contains 50 of the data points)"
      ]
    },
    {
      "cell_type": "code",
      "metadata": {
        "id": "2xK48tRSkC8D",
        "colab_type": "code",
        "outputId": "6d11e6f4-eab4-4e4e-c413-8c01ddaddfab",
        "colab": {
          "base_uri": "https://localhost:8080/",
          "height": 286
        }
      },
      "source": [
        "from sklearn.datasets import make_classification\n",
        "from matplotlib import pyplot as plt\n",
        "from sklearn.linear_model import LogisticRegression\n",
        "import seaborn as sns\n",
        "sns.set()\n",
        "from sklearn.model_selection import train_test_split\n",
        "from sklearn.metrics import confusion_matrix\n",
        "import pandas as pd\n",
        "import math\n",
        "import matplotlib.pyplot as plt\n",
        "import numpy as np\n",
        "\n",
        "# draw random samples\n",
        "x, y = make_classification(\n",
        "    n_samples=200,\n",
        "    n_features=1,\n",
        "    n_classes=2,\n",
        "    n_clusters_per_class=1,\n",
        "    flip_y=0.0,\n",
        "    n_informative=1,\n",
        "    n_redundant=0,\n",
        "    n_repeated=0,\n",
        "    random_state=197\n",
        ")\n",
        "\n",
        "x_train, x_test, y_train, y_test = train_test_split(x, y, random_state=1, test_size = .25)\n",
        "plt.scatter(x, y, c=y, cmap='rainbow')"
      ],
      "execution_count": 0,
      "outputs": [
        {
          "output_type": "execute_result",
          "data": {
            "text/plain": [
              "<matplotlib.collections.PathCollection at 0x7f41f7fe6550>"
            ]
          },
          "metadata": {
            "tags": []
          },
          "execution_count": 37
        },
        {
          "output_type": "display_data",
          "data": {
            "image/png": "[encoded data removed]",
            "text/plain": [
              "<Figure size 432x288 with 1 Axes>"
            ]
          },
          "metadata": {
            "tags": []
          }
        }
      ]
    },
    {
      "cell_type": "markdown",
      "metadata": {
        "id": "6B4MprR2l6Xr",
        "colab_type": "text"
      },
      "source": [
        "(3) Use Python (not sklearn package) to create the training algorithm of logistic regression method and use the training data set in 1.(2) to train a Logistic Regression model. Plot the error function curve when the training process converges. Create a plot that shows the training instances and the learnt decision boundary."
      ]
    },
    {
      "cell_type": "code",
      "metadata": {
        "colab_type": "code",
        "id": "-0pYrDq4UkV_",
        "outputId": "1f716192-e7f3-47a1-f789-034a6f158738",
        "colab": {
          "base_uri": "https://localhost:8080/",
          "height": 126
        }
      },
      "source": [
        "data = x_train\n",
        "targets = y_train\n",
        "l=[1]\n",
        "for t in data:\n",
        "  l.append(t[0])\n",
        "data = np.array(l)\n",
        "\n",
        "N = len(data)\n",
        "#w_old = np.random.rand(1,N)\n",
        "w_old = np.zeros((1,N))\n",
        "num_of_err = 1\n",
        "ErrorList = []\n",
        "learningRate = .01\n",
        "\n",
        "def sigmoid(x):\n",
        "  sig = 1 / (1+np.exp(-x))\n",
        "  return sig\n",
        "\n",
        "def new_weights(weights, grad):\n",
        "  weights = weights - learningRate*grad\n",
        "  return weights\n",
        "\n",
        "def errorFunc(weights, data, targets):\n",
        "  Err = 0\n",
        "  gradErr = 100 \n",
        "  numErrors = 0\n",
        "\n",
        "  for i in range(len(data)):\n",
        "    temp=[]\n",
        "    for j in range(len(data)):\n",
        "      temp.append(data[i])\n",
        "    xi=np.array(temp)\n",
        "    a = np.dot(weights, xi)\n",
        "    p = sigmoid(a/len(data))\n",
        "    numErrors += 1\n",
        "    if i == len(targets)-1:\n",
        "      break\n",
        "    Err = Err - (-targets[i+1]*np.log2(p)-(1-targets[i+1])*np.log2(1-p))\n",
        "    gradErr = gradErr - (targets[i+1] - p)*data[i]\n",
        "    \n",
        "  ErrorList.append(Err)\n",
        "  return [gradErr, numErrors]\n",
        "\n",
        "gErr = 100\n",
        "while abs(gErr) > 25:\n",
        "  g = errorFunc(w_old, data, y_train)\n",
        "  w_old = new_weights(w_old, g[0])\n",
        "  gErr = g[0]\n",
        "  print(g[0])\n",
        "\n",
        "model = w_old\n",
        "w_new = w_old"
      ],
      "execution_count": 0,
      "outputs": [
        {
          "output_type": "stream",
          "text": [
            "[95.05209904]\n",
            "[44.1173921]\n",
            "[33.61895383]\n",
            "[28.69036219]\n",
            "[25.74517804]\n",
            "[23.75924715]\n"
          ],
          "name": "stdout"
        }
      ]
    },
    {
      "cell_type": "code",
      "metadata": {
        "id": "BkXL4IF8zkJL",
        "colab_type": "code",
        "outputId": "ad7bf225-2201-4e45-96d6-0d86b02c6a04",
        "colab": {
          "base_uri": "https://localhost:8080/",
          "height": 410
        }
      },
      "source": [
        "plt.figure(figsize=(15, 5))\n",
        "\n",
        "plt.subplot(121)\n",
        "plt.scatter(x, y, c=y, cmap='rainbow')\n",
        "\n",
        "alist = []\n",
        "for k in data:\n",
        "  a = w_new[0][1]*k\n",
        "  alist.append(a)\n",
        "\n",
        "a = np.array(alist)\n",
        "z1 = sigmoid(-a)\n",
        "\n",
        "plt.scatter(data,z1)\n",
        "\n",
        "gErr = 100\n",
        "while abs(gErr) > 13.7:\n",
        "  g = errorFunc(w_old, data, y_train)\n",
        "  w_old = new_weights(w_old, g[0])\n",
        "  gErr = g[0]\n",
        "\n",
        "w_new = w_old\n",
        "\n",
        "blist = []\n",
        "for k in data:\n",
        "  b = w_new[0][1]*k\n",
        "  blist.append(b)\n",
        "\n",
        "b = np.array(blist)\n",
        "z2 = sigmoid(-b)\n",
        "\n",
        "plt.scatter(data,z2)\n",
        "\n",
        "plt.subplot(122)\n",
        "x_axis = np.linspace(0,1,len(ErrorList))\n",
        "plt.xlabel('data points')\n",
        "plt.ylabel('Error')\n",
        "plt.title('Error Function Curve')\n",
        "plt.grid(True)\n",
        "plt.plot(x_axis, ErrorList)"
      ],
      "execution_count": 0,
      "outputs": [
        {
          "output_type": "stream",
          "text": [
            "/usr/local/lib/python3.6/dist-packages/ipykernel_launcher.py:38: RuntimeWarning: divide by zero encountered in log2\n",
            "/usr/local/lib/python3.6/dist-packages/ipykernel_launcher.py:38: RuntimeWarning: invalid value encountered in multiply\n"
          ],
          "name": "stderr"
        },
        {
          "output_type": "execute_result",
          "data": {
            "text/plain": [
              "[<matplotlib.lines.Line2D at 0x7f41f7f6cc88>]"
            ]
          },
          "metadata": {
            "tags": []
          },
          "execution_count": 39
        },
        {
          "output_type": "display_data",
          "data": {
            "image/png": "[encoded data removed]",
            "text/plain": [
              "<Figure size 1080x360 with 2 Axes>"
            ]
          },
          "metadata": {
            "tags": []
          }
        }
      ]
    },
    {
      "cell_type": "markdown",
      "metadata": {
        "id": "sJWz2F1clonG",
        "colab_type": "text"
      },
      "source": [
        "(4) Test the trained model on the test data set in 1.(2) and calculate the confusion matrix, accuracy, precision and recall of the trained model."
      ]
    },
    {
      "cell_type": "code",
      "metadata": {
        "id": "CGQ330C8kL6s",
        "colab_type": "code",
        "outputId": "21995a2c-2382-4c0f-d3b8-41b5b3c16e90",
        "colab": {
          "base_uri": "https://localhost:8080/",
          "height": 286
        }
      },
      "source": [
        "testdata = x_test\n",
        "targets = y_test\n",
        "l=[1]\n",
        "for t in testdata:\n",
        "  l.append(t[0])\n",
        "testdata = np.array(l)\n",
        "\n",
        "plt.scatter(x_test,y_test , c=y_test, cmap='rainbow')\n",
        "\n",
        "alist = []\n",
        "for k in testdata:\n",
        "  a = model[0][1]*k\n",
        "  alist.append(a)\n",
        "\n",
        "a = np.array(alist)\n",
        "z1 = sigmoid(-a)\n",
        "\n",
        "plt.scatter(testdata,z1)"
      ],
      "execution_count": 0,
      "outputs": [
        {
          "output_type": "execute_result",
          "data": {
            "text/plain": [
              "<matplotlib.collections.PathCollection at 0x7f41f7f071d0>"
            ]
          },
          "metadata": {
            "tags": []
          },
          "execution_count": 40
        },
        {
          "output_type": "display_data",
          "data": {
            "image/png": "[encoded data removed]",
            "text/plain": [
              "<Figure size 432x288 with 1 Axes>"
            ]
          },
          "metadata": {
            "tags": []
          }
        }
      ]
    },
    {
      "cell_type": "code",
      "metadata": {
        "id": "WQCWkZ6Yme6w",
        "colab_type": "code",
        "outputId": "65fce7ca-95de-46a1-c2f8-e04972b0145d",
        "colab": {
          "base_uri": "https://localhost:8080/",
          "height": 253
        }
      },
      "source": [
        "from sklearn.metrics import confusion_matrix \n",
        "from sklearn.metrics import accuracy_score \n",
        "from sklearn.metrics import classification_report \n",
        "\n",
        "predicted = []\n",
        "test = []\n",
        "for i in range(len(testdata)):\n",
        "  if i == len(y_test):\n",
        "    break\n",
        "  a = model[0][1]*testdata[i+1]\n",
        "  pi = 1/(1+math.exp(a))\n",
        "  if pi < .5:\n",
        "    predicted.append(0)\n",
        "  else:\n",
        "    predicted.append(1)\n",
        "\n",
        "results = confusion_matrix(y_test, predicted) \n",
        "print(results) \n",
        "print(\"Accuracy:\")\n",
        "print(accuracy_score(y_test, predicted))\n",
        "print(classification_report(y_test, predicted))"
      ],
      "execution_count": 0,
      "outputs": [
        {
          "output_type": "stream",
          "text": [
            "[[16  6]\n",
            " [ 1 27]]\n",
            "Accuracy:\n",
            "0.86\n",
            "              precision    recall  f1-score   support\n",
            "\n",
            "           0       0.94      0.73      0.82        22\n",
            "           1       0.82      0.96      0.89        28\n",
            "\n",
            "    accuracy                           0.86        50\n",
            "   macro avg       0.88      0.85      0.85        50\n",
            "weighted avg       0.87      0.86      0.86        50\n",
            "\n"
          ],
          "name": "stdout"
        }
      ]
    },
    {
      "cell_type": "markdown",
      "metadata": {
        "id": "YT75rcTUsMqR",
        "colab_type": "text"
      },
      "source": [
        "2. Support Vector Machine Method in sk-learn package:\n",
        "\n",
        "Consider the support vector machine model with RBF kernel from sk-learn package. Tune the kernel parameter gamma to find the model with best accuracy on the digits data set. Show the training and test accuracy curve with respect to gamma."
      ]
    },
    {
      "cell_type": "code",
      "metadata": {
        "id": "EwucBoNasM2V",
        "colab_type": "code",
        "colab": {}
      },
      "source": [
        "import numpy as np\n",
        "import matplotlib.pyplot as plt\n",
        "from sklearn import svm, datasets\n",
        "from sklearn.model_selection import train_test_split\n",
        "from sklearn import metrics\n",
        "from sklearn.datasets import make_blobs\n",
        "# https://www.datacamp.com/community/tutorials/svm-classification-scikit-learn-python# \n",
        "# Code source: Gaël Varoquaux\n",
        "# License: BSD 3 clause"
      ],
      "execution_count": 0,
      "outputs": []
    },
    {
      "cell_type": "code",
      "metadata": {
        "id": "0VhYtpCryw6l",
        "colab_type": "code",
        "outputId": "1c940d1f-37bd-4c43-bab7-135a29a9a38d",
        "colab": {
          "base_uri": "https://localhost:8080/",
          "height": 53
        }
      },
      "source": [
        "from sklearn.preprocessing import StandardScaler\n",
        "#data = datasets.load_breast_cancer()\n",
        "data = datasets.load_digits()\n",
        "X = data.data\n",
        "y = data.target\n",
        "\n",
        "X = StandardScaler().fit_transform(X)\n",
        "print(np.unique(y))\n",
        "print(X.shape)"
      ],
      "execution_count": 0,
      "outputs": [
        {
          "output_type": "stream",
          "text": [
            "[0 1 2 3 4 5 6 7 8 9]\n",
            "(1797, 64)\n"
          ],
          "name": "stdout"
        }
      ]
    },
    {
      "cell_type": "code",
      "metadata": {
        "id": "jE_XMM5Dyw9T",
        "colab_type": "code",
        "colab": {}
      },
      "source": [
        "X_train, X_test, Y_train, Y_test = train_test_split(X, y, test_size=0.3,random_state=420) \n",
        "# plt.scatter(X_train[:,0],X_train[:,1],c=Y_train)"
      ],
      "execution_count": 0,
      "outputs": []
    },
    {
      "cell_type": "code",
      "metadata": {
        "id": "_v-0TdX1yw_4",
        "colab_type": "code",
        "outputId": "16cb6f06-3077-4d9c-d002-8bd112bd2464",
        "colab": {
          "base_uri": "https://localhost:8080/",
          "height": 72
        }
      },
      "source": [
        "for kernel in ('linear', 'poly', 'rbf'):\n",
        "  clf = svm.SVC(kernel=kernel) # Linear Kernel\n",
        "  #Train the model using the training sets\n",
        "  clf.fit(X_train, Y_train)\n",
        "  #Predict the response for test dataset\n",
        "  y_pred = clf.predict(X_test)\n",
        "  print(\"Accuracy:\",metrics.accuracy_score(Y_test, y_pred))"
      ],
      "execution_count": 0,
      "outputs": [
        {
          "output_type": "stream",
          "text": [
            "Accuracy: 0.9814814814814815\n",
            "Accuracy: 0.9611111111111111\n",
            "Accuracy: 0.9777777777777777\n"
          ],
          "name": "stdout"
        }
      ]
    },
    {
      "cell_type": "code",
      "metadata": {
        "id": "EmNz0z_yyxB5",
        "colab_type": "code",
        "outputId": "c0c7f9b3-c395-4086-9bc6-f92cde716b46",
        "cellView": "both",
        "colab": {
          "base_uri": "https://localhost:8080/",
          "height": 53
        }
      },
      "source": [
        "from sklearn.model_selection import GridSearchCV\n",
        "gamma_range = np.logspace(-4,1,5)\n",
        "# print(gamma_range)\n",
        "C_range = np.linspace(1,10,10)\n",
        "param_grid = dict(gamma = gamma_range,C = C_range)\n",
        "grid = GridSearchCV(svm.SVC(kernel = \"rbf\", cache_size=5000), param_grid=param_grid, cv=10)\n",
        "grid.fit(X_train, Y_train)\n",
        "print(\"The best parameters are %s with a score of %0.5f\" % (grid.best_params_, grid.best_score_))\n",
        "grid.score(X_test,Y_test)"
      ],
      "execution_count": 0,
      "outputs": [
        {
          "output_type": "stream",
          "text": [
            "The best parameters are {'C': 2.0, 'gamma': 0.03162277660168379} with a score of 0.98248\n"
          ],
          "name": "stdout"
        },
        {
          "output_type": "execute_result",
          "data": {
            "text/plain": [
              "0.9740740740740741"
            ]
          },
          "metadata": {
            "tags": []
          },
          "execution_count": 46
        }
      ]
    },
    {
      "cell_type": "code",
      "metadata": {
        "id": "U10enMEbyxE6",
        "colab_type": "code",
        "outputId": "976d1b2d-8a10-4560-a9cd-13a6e3ebd3ec",
        "colab": {
          "base_uri": "https://localhost:8080/",
          "height": 53
        }
      },
      "source": [
        "from sklearn.metrics import mean_squared_error\n",
        "clf = svm.SVC(kernel='rbf', gamma=0.03162277660168379,C=10)\n",
        "c = clf.fit(X_train,Y_train)\n",
        "print(clf.score(X_test,Y_test))\n",
        "y = c.predict(X_test)\n",
        "print(mean_squared_error(y,Y_test))"
      ],
      "execution_count": 0,
      "outputs": [
        {
          "output_type": "stream",
          "text": [
            "0.9740740740740741\n",
            "0.48148148148148145\n"
          ],
          "name": "stdout"
        }
      ]
    },
    {
      "cell_type": "code",
      "metadata": {
        "colab_type": "code",
        "id": "1otyB_SHXvbx",
        "outputId": "40cd72be-e0c5-4e18-bb14-a22eaceb71f4",
        "colab": {
          "base_uri": "https://localhost:8080/",
          "height": 319
        }
      },
      "source": [
        "space = np.linspace(0.0001,1,100)\n",
        "yTrain = []\n",
        "yTest = []\n",
        "\n",
        "for i in space:\n",
        "  clf = svm.SVC(kernel='rbf', gamma=i,C=10)\n",
        "  #Train the model using the training sets\n",
        "  clf.fit(X_train, Y_train)\n",
        "  #Predict the response for test dataset\n",
        "  y_pred_train = clf.predict(X_train)\n",
        "  y_pred_test = clf.predict(X_test)\n",
        "  #print(\"Accuracy:\",metrics.accuracy_score(Y_train, y_pred))\n",
        "  yTrain.append(metrics.accuracy_score(Y_train, y_pred_train))\n",
        "  yTest.append(metrics.accuracy_score(Y_test, y_pred_test))\n",
        "\n",
        "plt.plot(yTrain, label='Training Data')\n",
        "plt.plot(yTest, label='Test Data')\n",
        "plt.xlabel('Gamma')\n",
        "plt.ylabel('Accuracy score')\n",
        "plt.title('Accuracy Score by Gamma')\n",
        "plt.legend()"
      ],
      "execution_count": 0,
      "outputs": [
        {
          "output_type": "execute_result",
          "data": {
            "text/plain": [
              "<matplotlib.legend.Legend at 0x7f41f7b97cf8>"
            ]
          },
          "metadata": {
            "tags": []
          },
          "execution_count": 48
        },
        {
          "output_type": "display_data",
          "data": {
            "image/png": "[encoded data removed]",
            "text/plain": [
              "<Figure size 432x288 with 1 Axes>"
            ]
          },
          "metadata": {
            "tags": []
          }
        }
      ]
    }
  ]
}